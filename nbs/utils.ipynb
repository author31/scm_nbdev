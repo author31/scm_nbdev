{
 "cells": [
  {
   "cell_type": "markdown",
   "metadata": {},
   "source": [
    "# Utils\n",
    "\n",
    "> Adapted from SCM/lib/utils.py"
   ]
  },
  {
   "cell_type": "code",
   "execution_count": null,
   "metadata": {},
   "outputs": [],
   "source": [
    "#| default_exp utils"
   ]
  },
  {
   "cell_type": "code",
   "execution_count": null,
   "metadata": {},
   "outputs": [],
   "source": [
    "#| hide\n",
    "from nbdev.showdoc import *"
   ]
  },
  {
   "cell_type": "code",
   "execution_count": null,
   "metadata": {},
   "outputs": [],
   "source": [
    "#| export\n",
    "import shutil\n",
    "import os\n",
    "import sys\n",
    "import errno\n",
    "import numpy as np\n",
    "import torch\n",
    "import random\n",
    "import torch.backends.cudnn as cudnn\n",
    "from loguru import logger"
   ]
  },
  {
   "cell_type": "code",
   "execution_count": null,
   "metadata": {},
   "outputs": [],
   "source": [
    "#| export\n",
    "def rm(path):\n",
    "  try:\n",
    "    shutil.rmtree(path)\n",
    "  except OSError as e:\n",
    "    if e.errno != errno.ENOENT:\n",
    "      raise\n",
    "\n",
    "\n",
    "def mkdir(path):\n",
    "  try:\n",
    "    os.makedirs(path)\n",
    "  except OSError as e:\n",
    "    if e.errno != errno.EEXIST:\n",
    "      raise\n",
    "\n",
    "\n",
    "class AttrDict(dict):\n",
    "    \"\"\"\n",
    "    Subclass dict and define getter-setter.\n",
    "    This behaves as both dict and obj.\n",
    "    \"\"\"\n",
    "\n",
    "    def __getattr__(self, key):\n",
    "        return self[key]\n",
    "\n",
    "    def __setattr__(self, key, value):\n",
    "        if key in self.__dict__:\n",
    "            self.__dict__[key] = value\n",
    "        else:\n",
    "            self[key] = value\n",
    "\n",
    "\n",
    "class Logger(object):\n",
    "    def __init__(self,filename=\"Default.log\"):\n",
    "        self.terminal = sys.stdout\n",
    "        self.log = open(filename,'a')\n",
    "\n",
    "    def write(self,message):\n",
    "        self.terminal.write(message)\n",
    "        self.log.write(message)\n",
    "\n",
    "    def flush(self):\n",
    "        pass\n",
    "\n",
    "\n",
    "def fix_random_seed(seed):\n",
    "    torch.manual_seed(seed)\n",
    "    torch.cuda.manual_seed(seed)\n",
    "    torch.cuda.manual_seed_all(seed)\n",
    "\n",
    "    np.random.seed(seed)\n",
    "    random.seed(seed)\n",
    "\n",
    "\n",
    "def fix_seed_all(cfg):\n",
    "    # fix sedd\n",
    "    fix_random_seed(cfg.BASIC.SEED)\n",
    "    cudnn.benchmark = cfg.CUDNN.BENCHMARK\n",
    "    cudnn.deterministic = cfg.CUDNN.DETERMINISTIC\n",
    "    cudnn.enabled = cfg.CUDNN.ENABLE\n",
    "\n",
    "\n",
    "def backup_codes(root_dir, res_dir, backup_list):\n",
    "    if os.path.exists(res_dir):\n",
    "        shutil.rmtree(res_dir) # delete\n",
    "    os.makedirs(res_dir)\n",
    "    for name in backup_list:\n",
    "        shutil.copytree(os.path.join(root_dir, name), os.path.join(res_dir, name), dirs_exist_ok=True)\n",
    "    logger.info('codes backup at {}'.format(os.path.join(res_dir, name)))"
   ]
  },
  {
   "cell_type": "code",
   "execution_count": null,
   "metadata": {},
   "outputs": [],
   "source": [
    "#| hide\n",
    "import nbdev; nbdev.nbdev_export()"
   ]
  }
 ],
 "metadata": {
  "kernelspec": {
   "display_name": "SCM",
   "language": "python",
   "name": "scm"
  }
 },
 "nbformat": 4,
 "nbformat_minor": 4
}
